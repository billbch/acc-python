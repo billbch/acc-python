{
  "nbformat": 4,
  "nbformat_minor": 0,
  "metadata": {
    "kernelspec": {
      "display_name": "Python 3",
      "language": "python",
      "name": "python3"
    },
    "language_info": {
      "codemirror_mode": {
        "name": "ipython",
        "version": 3
      },
      "file_extension": ".py",
      "mimetype": "text/x-python",
      "name": "python",
      "nbconvert_exporter": "python",
      "pygments_lexer": "ipython3",
      "version": "3.8.5"
    },
    "colab": {
      "name": "01-Python-Basico_02-Python-Basico-Ejercicios.ipynb",
      "provenance": [],
      "collapsed_sections": []
    }
  },
  "cells": [
    {
      "cell_type": "markdown",
      "metadata": {
        "id": "bgY44lxM-ewC"
      },
      "source": [
        "___\n",
        "\n",
        "<a href='https://jupyter-notebook.readthedocs.io/en/stable/examples/Notebook/Running%20Code.html'> <img src='https://www.python.org/static/img/python-logo.png' /></a>\n",
        "___\n",
        "# Python Basico - Ejercicios\n",
        "\n"
      ]
    },
    {
      "cell_type": "markdown",
      "metadata": {
        "id": "s5COjZM7-ewJ"
      },
      "source": [
        "## Ejercicios\n",
        "\n",
        "Responda las preguntas o complete las tareas descritas en negrita a continuación, use el método específico descrito si corresponde."
      ]
    },
    {
      "cell_type": "markdown",
      "metadata": {
        "id": "PDG5bfIq-ewK"
      },
      "source": [
        "** ¿Cuánto es 7 elevado a 4?**"
      ]
    },
    {
      "cell_type": "code",
      "metadata": {
        "colab": {
          "base_uri": "https://localhost:8080/"
        },
        "id": "XN8H1NEK-ewK",
        "outputId": "6511fb86-20bb-40ce-f684-6b1acc1f8554"
      },
      "source": [
        "7**4"
      ],
      "execution_count": null,
      "outputs": [
        {
          "output_type": "execute_result",
          "data": {
            "text/plain": [
              "2401"
            ]
          },
          "metadata": {
            "tags": []
          },
          "execution_count": 1
        }
      ]
    },
    {
      "cell_type": "markdown",
      "metadata": {
        "id": "fkw5ymj3-ewL"
      },
      "source": [
        "** Divida esta cadena:**\n",
        "\n",
        "    s = \"Hola mi estimado!\"\n",
        "    \n",
        "**en una lista. **"
      ]
    },
    {
      "cell_type": "code",
      "metadata": {
        "id": "v4aCRgI7-ewM"
      },
      "source": [
        "s=\"hola mi estimado!\""
      ],
      "execution_count": null,
      "outputs": []
    },
    {
      "cell_type": "code",
      "metadata": {
        "colab": {
          "base_uri": "https://localhost:8080/"
        },
        "id": "hUAlRjfX-ewM",
        "outputId": "47965ed6-1dbe-48b7-a766-012acc912747"
      },
      "source": [
        "s.split()"
      ],
      "execution_count": null,
      "outputs": [
        {
          "output_type": "execute_result",
          "data": {
            "text/plain": [
              "['hola', 'mi', 'estimado!']"
            ]
          },
          "metadata": {
            "tags": []
          },
          "execution_count": 5
        }
      ]
    },
    {
      "cell_type": "markdown",
      "metadata": {
        "id": "e_vYRI3J-ewM"
      },
      "source": [
        "** Dadas las variables:**\n",
        "\n",
        "    planeta = \"Tierra\"\n",
        "    diametro = 12742\n",
        "\n",
        "** Use .format() para visualizar la siguente frase: **\n",
        "\n",
        "    El diametro de la Tierra es 12742 kilometros."
      ]
    },
    {
      "cell_type": "code",
      "metadata": {
        "id": "xhr_00BD-ewN"
      },
      "source": [
        "planeta = \"Tierra\"\n",
        "diametro = 12742"
      ],
      "execution_count": 8,
      "outputs": []
    },
    {
      "cell_type": "code",
      "metadata": {
        "id": "BQaloD7x-ewN",
        "colab": {
          "base_uri": "https://localhost:8080/"
        },
        "outputId": "fcbe07b7-bf28-479b-a5b5-c6d2c6d008c8"
      },
      "source": [
        "print('el diametro de la {} es {} kilometros'.format(planeta,diametro))"
      ],
      "execution_count": 11,
      "outputs": [
        {
          "output_type": "stream",
          "text": [
            "el diametro de la Tierra es 12742 kilometros\n"
          ],
          "name": "stdout"
        }
      ]
    },
    {
      "cell_type": "markdown",
      "metadata": {
        "id": "cU0ThY9I-ewN"
      },
      "source": [
        "** Dada esta lista anidada, use la indexación para obtener la palabra \"hola\"**"
      ]
    },
    {
      "cell_type": "code",
      "metadata": {
        "id": "Q9v_Zj_o-ewN"
      },
      "source": [
        "lst = [1,2,[3,4],[5,[100,200,['hola']],23,11],1,7]"
      ],
      "execution_count": 13,
      "outputs": []
    },
    {
      "cell_type": "code",
      "metadata": {
        "id": "aoZ_R-n0-ewO",
        "colab": {
          "base_uri": "https://localhost:8080/",
          "height": 35
        },
        "outputId": "2d2cf9e3-6f54-411e-970a-5d5b60f45629"
      },
      "source": [
        "lst[3][1][2][0]"
      ],
      "execution_count": 18,
      "outputs": [
        {
          "output_type": "execute_result",
          "data": {
            "application/vnd.google.colaboratory.intrinsic+json": {
              "type": "string"
            },
            "text/plain": [
              "'hola'"
            ]
          },
          "metadata": {
            "tags": []
          },
          "execution_count": 18
        }
      ]
    },
    {
      "cell_type": "markdown",
      "metadata": {
        "id": "-eeeX4Fg-ewO"
      },
      "source": [
        "** Dado este diccionario nido, tome la palabra \"hola\". Esté preparado, esto será molesto / complicado  **"
      ]
    },
    {
      "cell_type": "code",
      "metadata": {
        "id": "iV7OfIrY-ewO"
      },
      "source": [
        "d = {'k1':[1,2,3,{'dificil':['oh','man','inicio',{'destino':[1,2,3,'hola']}]}]}"
      ],
      "execution_count": 19,
      "outputs": []
    },
    {
      "cell_type": "code",
      "metadata": {
        "id": "jyAiZNN5-ewO",
        "colab": {
          "base_uri": "https://localhost:8080/",
          "height": 35
        },
        "outputId": "fc24b1b1-b764-49e0-917d-9c7bea80b3bd"
      },
      "source": [
        "d['k1'][3]['dificil'][3]['destino'][3]"
      ],
      "execution_count": 27,
      "outputs": [
        {
          "output_type": "execute_result",
          "data": {
            "application/vnd.google.colaboratory.intrinsic+json": {
              "type": "string"
            },
            "text/plain": [
              "'hola'"
            ]
          },
          "metadata": {
            "tags": []
          },
          "execution_count": 27
        }
      ]
    },
    {
      "cell_type": "markdown",
      "metadata": {
        "id": "EvNThVmR-ewO"
      },
      "source": [
        "** ¿Cuál es la principal diferencia entre una tupla y una lista? **"
      ]
    },
    {
      "cell_type": "code",
      "metadata": {
        "id": "tt8OeIQE-ewP"
      },
      "source": [
        "#la tupla no se modifica la lista si"
      ],
      "execution_count": null,
      "outputs": []
    },
    {
      "cell_type": "markdown",
      "metadata": {
        "id": "iyQGAE03-ewP"
      },
      "source": [
        "** Cree una función que tome el dominio del sitio web de correo electrónico a partir de una cadena con el siguiente formato: **\n",
        "\n",
        "    user@dominio.com\n",
        "    \n",
        "**Entonces, por ejemplo, pasando \"user@domain.com\" retornaria: domain.com**"
      ]
    },
    {
      "cell_type": "code",
      "metadata": {
        "id": "m-NO-hlt-ewP"
      },
      "source": [
        "def dominioGet(mail):\n",
        "  domainclean=mail.split('@')[1]\n",
        "  return domainclean"
      ],
      "execution_count": 30,
      "outputs": []
    },
    {
      "cell_type": "code",
      "metadata": {
        "id": "0lRyV1o--ewP",
        "colab": {
          "base_uri": "https://localhost:8080/",
          "height": 35
        },
        "outputId": "e0729672-f4fd-4b69-e431-0f44526aa4ae"
      },
      "source": [
        "dominioGet('user@dominio.com')"
      ],
      "execution_count": 31,
      "outputs": [
        {
          "output_type": "execute_result",
          "data": {
            "application/vnd.google.colaboratory.intrinsic+json": {
              "type": "string"
            },
            "text/plain": [
              "'dominio.com'"
            ]
          },
          "metadata": {
            "tags": []
          },
          "execution_count": 31
        }
      ]
    },
    {
      "cell_type": "markdown",
      "metadata": {
        "id": "q0P8jDHr-ewP"
      },
      "source": [
        "** Cree una función básica que devuelva Verdadero si la palabra 'perro' está contenida en la cadena de entrada. No se preocupe por casos extremos como una puntuación que se adjunta a la palabra perro, pero tenga en cuenta las mayúsculas. **"
      ]
    },
    {
      "cell_type": "code",
      "metadata": {
        "id": "H8TN-YxF-ewQ"
      },
      "source": [
        "def ubicaDog(text):\n",
        "  aux1=text.split()\n",
        "  for i in aux1:\n",
        "    if i=='PERRO':\n",
        "      return True\n",
        "    elif i=='perro':\n",
        "      return True\n",
        "    \n",
        "    "
      ],
      "execution_count": 39,
      "outputs": []
    },
    {
      "cell_type": "code",
      "metadata": {
        "id": "BPDKiNom-ewQ",
        "colab": {
          "base_uri": "https://localhost:8080/"
        },
        "outputId": "18ef4230-697b-4823-8ff3-c90f2c4acd1a"
      },
      "source": [
        "ubicaDog('Esta el perro aqui?')"
      ],
      "execution_count": 42,
      "outputs": [
        {
          "output_type": "execute_result",
          "data": {
            "text/plain": [
              "True"
            ]
          },
          "metadata": {
            "tags": []
          },
          "execution_count": 42
        }
      ]
    },
    {
      "cell_type": "markdown",
      "metadata": {
        "id": "wHVvBG4r-ewQ"
      },
      "source": [
        "** Cree una función que cuente el número de veces que aparece la palabra \"perro\" en una cadena. Nuevamente ignore los casos extremos. **"
      ]
    },
    {
      "cell_type": "code",
      "metadata": {
        "id": "7-kC0fVl-ewQ"
      },
      "source": [
        "def cuentaDog(text):\n",
        "  counter=text.count('perro')\n",
        "  return counter"
      ],
      "execution_count": 43,
      "outputs": []
    },
    {
      "cell_type": "code",
      "metadata": {
        "id": "bGwrhtL0-ewQ",
        "colab": {
          "base_uri": "https://localhost:8080/"
        },
        "outputId": "8baef7a9-d183-4044-ddbf-3134ce63a541"
      },
      "source": [
        "cuentaDog('Este perro corre mas rapido que este otro perro no lo dudes!')"
      ],
      "execution_count": 44,
      "outputs": [
        {
          "output_type": "execute_result",
          "data": {
            "text/plain": [
              "2"
            ]
          },
          "metadata": {
            "tags": []
          },
          "execution_count": 44
        }
      ]
    },
    {
      "cell_type": "markdown",
      "metadata": {
        "id": "eCj-8aK2-ewR"
      },
      "source": [
        "** Utilice expresiones lambda y la función filter () para filtrar las palabras de una lista que comiencen con la letra 's'. Por ejemplo:**\n",
        "\n",
        "    seq = ['sopa','perro','salida','gato','excelente']\n",
        "\n",
        "**debe filtrarse solo:**\n",
        "\n",
        "    ['sopa','salida']"
      ]
    },
    {
      "cell_type": "code",
      "metadata": {
        "id": "m0isfFFs-ewR"
      },
      "source": [
        "seq = ['sopa','perro','salida','gato','excelente']"
      ],
      "execution_count": 54,
      "outputs": []
    },
    {
      "cell_type": "code",
      "metadata": {
        "id": "i218yqJj-ewR",
        "colab": {
          "base_uri": "https://localhost:8080/"
        },
        "outputId": "472e34fb-b61a-4818-df36-b6858d2a9b89"
      },
      "source": [
        "findS= filter(lambda x:x[0]=='s',seq)\n",
        "print(list(findS))"
      ],
      "execution_count": 60,
      "outputs": [
        {
          "output_type": "stream",
          "text": [
            "['sopa', 'salida']\n"
          ],
          "name": "stdout"
        }
      ]
    },
    {
      "cell_type": "markdown",
      "metadata": {
        "id": "0f5CJ83x-ewR"
      },
      "source": [
        "### Ejercicio Final\n",
        "**Conduces demasiado rápido y un policía te detiene. Escribe una función para devolver uno de los 3 resultados posibles: \"Sin papeleta\", \"Papeleta NO GRAVE\" o \"Papeleta GRAVE\".\n",
        "   Si tu velocidad es de 60 o menos, el resultado es \"Sin papeleta\". Si la velocidad está entre 61\n",
        "   y 80 inclusive, el resultado es \"Papeleta NO GRAVE\". Si la velocidad es 81 o más, el resultado es \"Papeleta GRAVE\". A menos que sea tu cumpleaños (codificado como un valor booleano en los parámetros de la función), en tu cumpleaños, la velocidad puede ser 5 más alta en total de casos. **"
      ]
    },
    {
      "cell_type": "code",
      "metadata": {
        "id": "e0nMPT6h-ewR"
      },
      "source": [
        "def calcula_velocidad(velocidad, es_mi_cumple):\n",
        "  cumple=0\n",
        " \n",
        "  if es_mi_cumple==True:\n",
        "    cumple=5\n",
        "\n",
        "  total1=60+cumple\n",
        "  total2=80+cumple\n",
        "\n",
        "\n",
        "  if velocidad<=total1:\n",
        "    print(\"Sin papeleta\")\n",
        "  elif velocidad>total1 and velocidad<=total2:\n",
        "    print(\"Papeleta NO GRAVE\")\n",
        "  else:\n",
        "    print(\"Papeleta Grave\")"
      ],
      "execution_count": 62,
      "outputs": []
    },
    {
      "cell_type": "code",
      "metadata": {
        "id": "3YUVQdxZ-ewS",
        "colab": {
          "base_uri": "https://localhost:8080/"
        },
        "outputId": "0520a228-c90d-4727-8e9d-3be8c209a017"
      },
      "source": [
        "calcula_velocidad(81,True)"
      ],
      "execution_count": 63,
      "outputs": [
        {
          "output_type": "stream",
          "text": [
            "Papeleta NO GRAVE\n"
          ],
          "name": "stdout"
        }
      ]
    },
    {
      "cell_type": "code",
      "metadata": {
        "id": "JOdt6Tsd-ewS",
        "colab": {
          "base_uri": "https://localhost:8080/"
        },
        "outputId": "3a07521c-6169-47d4-a661-19c250f98cf0"
      },
      "source": [
        "calcula_velocidad(81,False)"
      ],
      "execution_count": 64,
      "outputs": [
        {
          "output_type": "stream",
          "text": [
            "Papeleta Grave\n"
          ],
          "name": "stdout"
        }
      ]
    },
    {
      "cell_type": "markdown",
      "metadata": {
        "id": "y1Dj1b74-ewS"
      },
      "source": [
        "# Buen trabajo!"
      ]
    }
  ]
}
