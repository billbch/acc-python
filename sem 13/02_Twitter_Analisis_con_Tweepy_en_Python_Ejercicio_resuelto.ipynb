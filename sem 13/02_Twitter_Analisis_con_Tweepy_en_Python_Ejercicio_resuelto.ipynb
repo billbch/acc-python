{
  "nbformat": 4,
  "nbformat_minor": 0,
  "metadata": {
    "kernelspec": {
      "display_name": "Python 3",
      "language": "python",
      "name": "python3"
    },
    "language_info": {
      "codemirror_mode": {
        "name": "ipython",
        "version": 3
      },
      "file_extension": ".py",
      "mimetype": "text/x-python",
      "name": "python",
      "nbconvert_exporter": "python",
      "pygments_lexer": "ipython3",
      "version": "3.8.5"
    },
    "colab": {
      "name": "02-Twitter-Analisis-con-Tweepy-en-Python-Ejercicio.ipynb",
      "provenance": [],
      "collapsed_sections": []
    }
  },
  "cells": [
    {
      "cell_type": "markdown",
      "metadata": {
        "id": "StzLPklgNN8H"
      },
      "source": [
        "![tweepy-python-twitter.png](attachment:tweepy-python-twitter.png)"
      ]
    },
    {
      "cell_type": "markdown",
      "metadata": {
        "id": "kVPV4w12NN8K"
      },
      "source": [
        "## Ejercicio - Análisis de Twitter con Tweepy y TexBlob"
      ]
    },
    {
      "cell_type": "markdown",
      "metadata": {
        "id": "hAirwxriNN8L"
      },
      "source": [
        "Cargaremos un archivo de texto llamado **segunda_vuelta.csv** conteniendo tweets que resultaron de la busqueada con el hashtag **#fraudeenmesa** del 8 al 14 de junio del 2021.\n",
        "\n",
        "Realizar las operaciones que se solicitan.\n",
        "\n",
        "**Nota:** Mayor info sobre el diccionario de datos del objeto \"tweet\" se describe en: https://developer.twitter.com/en/docs/twitter-api/v1/data-dictionary/object-model/tweet"
      ]
    },
    {
      "cell_type": "markdown",
      "metadata": {
        "id": "7RMKwtMuNN8M"
      },
      "source": [
        "### 1. Importación de librerias"
      ]
    },
    {
      "cell_type": "code",
      "metadata": {
        "id": "9p_dGLvzNN8M"
      },
      "source": [
        "import pandas as pd\n",
        "import numpy as np\n",
        "from csv import reader"
      ],
      "execution_count": 11,
      "outputs": []
    },
    {
      "cell_type": "markdown",
      "metadata": {
        "id": "XX57C3ADNN8N"
      },
      "source": [
        "### 2. Carga de Tweets"
      ]
    },
    {
      "cell_type": "markdown",
      "metadata": {
        "id": "1sux427yNN8N"
      },
      "source": [
        "**(a) Cargamos los tweets contenidos en **segunda_vuelta.csv** en un dataframe llamado data**"
      ]
    },
    {
      "cell_type": "code",
      "metadata": {
        "id": "95r70xPbNN8O"
      },
      "source": [
        "tweets_data_path='segunda_vuelta.csv'\n",
        "tweets_data=[]\n",
        "\n",
        "with open(tweets_data_path, 'r',newline='') as csv_file:\n",
        "    csv_reader = reader(csv_file,delimiter=\",\")\n",
        "    # Passing the cav_reader object to list() to get a list of lists\n",
        "    next(csv_reader)\n",
        "    tweets_data=list(csv_reader)\n",
        "    #print(list_of_rows)\n",
        "\n"
      ],
      "execution_count": 52,
      "outputs": []
    },
    {
      "cell_type": "code",
      "metadata": {
        "colab": {
          "base_uri": "https://localhost:8080/"
        },
        "id": "6ul2CDUmXAun",
        "outputId": "2f9489cf-672c-47dd-f8d5-84d03f816012"
      },
      "source": [
        "tweets_data[0]"
      ],
      "execution_count": 53,
      "outputs": [
        {
          "output_type": "execute_result",
          "data": {
            "text/plain": [
              "['13/06/2021 23:59',\n",
              " '@MarthaChavezC @ONPE_oficial Estas elecciones han sido un #FraudeEnMesa desde la 1era vuelta…. Anulen las elecciones',\n",
              " '7',\n",
              " '3',\n",
              " 'la_charapita']"
            ]
          },
          "metadata": {
            "tags": []
          },
          "execution_count": 53
        }
      ]
    },
    {
      "cell_type": "markdown",
      "metadata": {
        "id": "3yHetCCfNN8O"
      },
      "source": [
        "### 3. Análisis de datos"
      ]
    },
    {
      "cell_type": "markdown",
      "metadata": {
        "id": "v9JZIztONN8P"
      },
      "source": [
        "**(b) Observamos las 10 primeras observaciones de data**"
      ]
    },
    {
      "cell_type": "code",
      "metadata": {
        "colab": {
          "base_uri": "https://localhost:8080/",
          "height": 535
        },
        "id": "pFJvYPHuNN8P",
        "outputId": "0e829bd6-b19d-4e1e-c672-7afcd99cb2d4"
      },
      "source": [
        "# ESCRIBE TU CODIGO AQUI\n",
        "data=pd.read_csv(tweets_data_path)\n",
        "data.head(10)"
      ],
      "execution_count": 59,
      "outputs": [
        {
          "output_type": "execute_result",
          "data": {
            "text/html": [
              "<div>\n",
              "<style scoped>\n",
              "    .dataframe tbody tr th:only-of-type {\n",
              "        vertical-align: middle;\n",
              "    }\n",
              "\n",
              "    .dataframe tbody tr th {\n",
              "        vertical-align: top;\n",
              "    }\n",
              "\n",
              "    .dataframe thead th {\n",
              "        text-align: right;\n",
              "    }\n",
              "</style>\n",
              "<table border=\"1\" class=\"dataframe\">\n",
              "  <thead>\n",
              "    <tr style=\"text-align: right;\">\n",
              "      <th></th>\n",
              "      <th>created_at</th>\n",
              "      <th>text</th>\n",
              "      <th>likes</th>\n",
              "      <th>RTs</th>\n",
              "      <th>user_name</th>\n",
              "    </tr>\n",
              "  </thead>\n",
              "  <tbody>\n",
              "    <tr>\n",
              "      <th>0</th>\n",
              "      <td>13/06/2021 23:59</td>\n",
              "      <td>@MarthaChavezC @ONPE_oficial Estas elecciones ...</td>\n",
              "      <td>7.0</td>\n",
              "      <td>3.0</td>\n",
              "      <td>la_charapita</td>\n",
              "    </tr>\n",
              "    <tr>\n",
              "      <th>1</th>\n",
              "      <td>13/06/2021 23:58</td>\n",
              "      <td>@DavidU1924 @MarthaChavezC ¡Cuantas actas mas ...</td>\n",
              "      <td>12.0</td>\n",
              "      <td>0.0</td>\n",
              "      <td>DPostigo50</td>\n",
              "    </tr>\n",
              "    <tr>\n",
              "      <th>2</th>\n",
              "      <td>13/06/2021 23:54</td>\n",
              "      <td>@ONPE_oficial @alecosta @kennethsanchezg La @O...</td>\n",
              "      <td>1.0</td>\n",
              "      <td>0.0</td>\n",
              "      <td>AleGayoso2</td>\n",
              "    </tr>\n",
              "    <tr>\n",
              "      <th>3</th>\n",
              "      <td>13/06/2021 23:46</td>\n",
              "      <td>@JNE_Peru @tuesta @fidh_es PERDIERON CREDIBILI...</td>\n",
              "      <td>0.0</td>\n",
              "      <td>0.0</td>\n",
              "      <td>E062020</td>\n",
              "    </tr>\n",
              "    <tr>\n",
              "      <th>4</th>\n",
              "      <td>13/06/2021 23:45</td>\n",
              "      <td>@susanaabad @MarleneChG1 Con el #FraudeEnMesa</td>\n",
              "      <td>0.0</td>\n",
              "      <td>0.0</td>\n",
              "      <td>HILARYCAMPOVER2</td>\n",
              "    </tr>\n",
              "    <tr>\n",
              "      <th>5</th>\n",
              "      <td>13/06/2021 23:44</td>\n",
              "      <td>@IndiraHuilca Yo no vi a nadie destilar odio e...</td>\n",
              "      <td>0.0</td>\n",
              "      <td>0.0</td>\n",
              "      <td>TheRealGuille82</td>\n",
              "    </tr>\n",
              "    <tr>\n",
              "      <th>6</th>\n",
              "      <td>13/06/2021 23:41</td>\n",
              "      <td>@Tgiusseppe @ONPE_oficial @KeikoFujimori Segur...</td>\n",
              "      <td>1.0</td>\n",
              "      <td>1.0</td>\n",
              "      <td>NANKARINA5</td>\n",
              "    </tr>\n",
              "    <tr>\n",
              "      <th>7</th>\n",
              "      <td>13/06/2021 23:39</td>\n",
              "      <td>#fraudeEnMesa una más de las miles fraudulenta...</td>\n",
              "      <td>2.0</td>\n",
              "      <td>1.0</td>\n",
              "      <td>yzarich</td>\n",
              "    </tr>\n",
              "    <tr>\n",
              "      <th>8</th>\n",
              "      <td>13/06/2021 23:37</td>\n",
              "      <td>@amariateguibnof Ya es el colmo el pulpo que h...</td>\n",
              "      <td>8.0</td>\n",
              "      <td>4.0</td>\n",
              "      <td>Juaniperezc</td>\n",
              "    </tr>\n",
              "    <tr>\n",
              "      <th>9</th>\n",
              "      <td>13/06/2021 23:37</td>\n",
              "      <td>@America24Horas @KeikoFujimori Han anulado act...</td>\n",
              "      <td>0.0</td>\n",
              "      <td>0.0</td>\n",
              "      <td>GabrielOmarPM</td>\n",
              "    </tr>\n",
              "  </tbody>\n",
              "</table>\n",
              "</div>"
            ],
            "text/plain": [
              "         created_at  ...        user_name\n",
              "0  13/06/2021 23:59  ...     la_charapita\n",
              "1  13/06/2021 23:58  ...       DPostigo50\n",
              "2  13/06/2021 23:54  ...       AleGayoso2\n",
              "3  13/06/2021 23:46  ...          E062020\n",
              "4  13/06/2021 23:45  ...  HILARYCAMPOVER2\n",
              "5  13/06/2021 23:44  ...  TheRealGuille82\n",
              "6  13/06/2021 23:41  ...       NANKARINA5\n",
              "7  13/06/2021 23:39  ...          yzarich\n",
              "8  13/06/2021 23:37  ...      Juaniperezc\n",
              "9  13/06/2021 23:37  ...    GabrielOmarPM\n",
              "\n",
              "[10 rows x 5 columns]"
            ]
          },
          "metadata": {
            "tags": []
          },
          "execution_count": 59
        }
      ]
    },
    {
      "cell_type": "code",
      "metadata": {
        "id": "qPEpNEL6NN8Q",
        "outputId": "b80e6c87-b2f5-4a03-de0e-4d82335b49ad"
      },
      "source": [
        ""
      ],
      "execution_count": null,
      "outputs": [
        {
          "output_type": "execute_result",
          "data": {
            "text/html": [
              "<div>\n",
              "<style scoped>\n",
              "    .dataframe tbody tr th:only-of-type {\n",
              "        vertical-align: middle;\n",
              "    }\n",
              "\n",
              "    .dataframe tbody tr th {\n",
              "        vertical-align: top;\n",
              "    }\n",
              "\n",
              "    .dataframe thead th {\n",
              "        text-align: right;\n",
              "    }\n",
              "</style>\n",
              "<table border=\"1\" class=\"dataframe\">\n",
              "  <thead>\n",
              "    <tr style=\"text-align: right;\">\n",
              "      <th></th>\n",
              "      <th>created_at</th>\n",
              "      <th>text</th>\n",
              "      <th>likes</th>\n",
              "      <th>RTs</th>\n",
              "      <th>user_name</th>\n",
              "    </tr>\n",
              "  </thead>\n",
              "  <tbody>\n",
              "    <tr>\n",
              "      <th>0</th>\n",
              "      <td>13/06/2021 23:59</td>\n",
              "      <td>@MarthaChavezC @ONPE_oficial Estas elecciones ...</td>\n",
              "      <td>7.0</td>\n",
              "      <td>3.0</td>\n",
              "      <td>la_charapita</td>\n",
              "    </tr>\n",
              "    <tr>\n",
              "      <th>1</th>\n",
              "      <td>13/06/2021 23:58</td>\n",
              "      <td>@DavidU1924 @MarthaChavezC ¡Cuantas actas mas ...</td>\n",
              "      <td>12.0</td>\n",
              "      <td>0.0</td>\n",
              "      <td>DPostigo50</td>\n",
              "    </tr>\n",
              "    <tr>\n",
              "      <th>2</th>\n",
              "      <td>13/06/2021 23:54</td>\n",
              "      <td>@ONPE_oficial @alecosta @kennethsanchezg La @O...</td>\n",
              "      <td>1.0</td>\n",
              "      <td>0.0</td>\n",
              "      <td>AleGayoso2</td>\n",
              "    </tr>\n",
              "    <tr>\n",
              "      <th>3</th>\n",
              "      <td>13/06/2021 23:46</td>\n",
              "      <td>@JNE_Peru @tuesta @fidh_es PERDIERON CREDIBILI...</td>\n",
              "      <td>0.0</td>\n",
              "      <td>0.0</td>\n",
              "      <td>E062020</td>\n",
              "    </tr>\n",
              "    <tr>\n",
              "      <th>4</th>\n",
              "      <td>13/06/2021 23:45</td>\n",
              "      <td>@susanaabad @MarleneChG1 Con el #FraudeEnMesa</td>\n",
              "      <td>0.0</td>\n",
              "      <td>0.0</td>\n",
              "      <td>HILARYCAMPOVER2</td>\n",
              "    </tr>\n",
              "    <tr>\n",
              "      <th>5</th>\n",
              "      <td>13/06/2021 23:44</td>\n",
              "      <td>@IndiraHuilca Yo no vi a nadie destilar odio e...</td>\n",
              "      <td>0.0</td>\n",
              "      <td>0.0</td>\n",
              "      <td>TheRealGuille82</td>\n",
              "    </tr>\n",
              "    <tr>\n",
              "      <th>6</th>\n",
              "      <td>13/06/2021 23:41</td>\n",
              "      <td>@Tgiusseppe @ONPE_oficial @KeikoFujimori Segur...</td>\n",
              "      <td>1.0</td>\n",
              "      <td>1.0</td>\n",
              "      <td>NANKARINA5</td>\n",
              "    </tr>\n",
              "    <tr>\n",
              "      <th>7</th>\n",
              "      <td>13/06/2021 23:39</td>\n",
              "      <td>#fraudeEnMesa una más de las miles fraudulenta...</td>\n",
              "      <td>2.0</td>\n",
              "      <td>1.0</td>\n",
              "      <td>yzarich</td>\n",
              "    </tr>\n",
              "    <tr>\n",
              "      <th>8</th>\n",
              "      <td>13/06/2021 23:37</td>\n",
              "      <td>@amariateguibnof Ya es el colmo el pulpo que h...</td>\n",
              "      <td>8.0</td>\n",
              "      <td>4.0</td>\n",
              "      <td>Juaniperezc</td>\n",
              "    </tr>\n",
              "    <tr>\n",
              "      <th>9</th>\n",
              "      <td>13/06/2021 23:37</td>\n",
              "      <td>@America24Horas @KeikoFujimori Han anulado act...</td>\n",
              "      <td>0.0</td>\n",
              "      <td>0.0</td>\n",
              "      <td>GabrielOmarPM</td>\n",
              "    </tr>\n",
              "  </tbody>\n",
              "</table>\n",
              "</div>"
            ],
            "text/plain": [
              "         created_at                                               text  likes  \\\n",
              "0  13/06/2021 23:59  @MarthaChavezC @ONPE_oficial Estas elecciones ...    7.0   \n",
              "1  13/06/2021 23:58  @DavidU1924 @MarthaChavezC ¡Cuantas actas mas ...   12.0   \n",
              "2  13/06/2021 23:54  @ONPE_oficial @alecosta @kennethsanchezg La @O...    1.0   \n",
              "3  13/06/2021 23:46  @JNE_Peru @tuesta @fidh_es PERDIERON CREDIBILI...    0.0   \n",
              "4  13/06/2021 23:45      @susanaabad @MarleneChG1 Con el #FraudeEnMesa    0.0   \n",
              "5  13/06/2021 23:44  @IndiraHuilca Yo no vi a nadie destilar odio e...    0.0   \n",
              "6  13/06/2021 23:41  @Tgiusseppe @ONPE_oficial @KeikoFujimori Segur...    1.0   \n",
              "7  13/06/2021 23:39  #fraudeEnMesa una más de las miles fraudulenta...    2.0   \n",
              "8  13/06/2021 23:37  @amariateguibnof Ya es el colmo el pulpo que h...    8.0   \n",
              "9  13/06/2021 23:37  @America24Horas @KeikoFujimori Han anulado act...    0.0   \n",
              "\n",
              "   RTs        user_name  \n",
              "0  3.0     la_charapita  \n",
              "1  0.0       DPostigo50  \n",
              "2  0.0       AleGayoso2  \n",
              "3  0.0          E062020  \n",
              "4  0.0  HILARYCAMPOVER2  \n",
              "5  0.0  TheRealGuille82  \n",
              "6  1.0       NANKARINA5  \n",
              "7  1.0          yzarich  \n",
              "8  4.0      Juaniperezc  \n",
              "9  0.0    GabrielOmarPM  "
            ]
          },
          "metadata": {
            "tags": []
          },
          "execution_count": 3
        }
      ]
    },
    {
      "cell_type": "markdown",
      "metadata": {
        "id": "QO8ykQAmNN8T"
      },
      "source": [
        "**(c) Cuantas observaciones tiene el dataframe llamado data?**"
      ]
    },
    {
      "cell_type": "code",
      "metadata": {
        "id": "rnnc-MrWNN8T"
      },
      "source": [
        "# ESCRIBE TU CODIGO AQUI\n"
      ],
      "execution_count": null,
      "outputs": []
    },
    {
      "cell_type": "code",
      "metadata": {
        "colab": {
          "base_uri": "https://localhost:8080/"
        },
        "id": "Vt7DLlL1NN8T",
        "outputId": "ed963f57-2f8e-4382-bce8-400d542ea6c0"
      },
      "source": [
        "print ('Total de tweets:', len(data.index))"
      ],
      "execution_count": 60,
      "outputs": [
        {
          "output_type": "stream",
          "text": [
            "Total de tweets: 17839\n"
          ],
          "name": "stdout"
        }
      ]
    },
    {
      "cell_type": "markdown",
      "metadata": {
        "id": "26o5N3NxNN8U"
      },
      "source": [
        "**(d)Que info tiene el conjuno de datos?**"
      ]
    },
    {
      "cell_type": "code",
      "metadata": {
        "colab": {
          "base_uri": "https://localhost:8080/"
        },
        "id": "NhWCV0zyNN8U",
        "outputId": "61a4e91e-dc05-48a0-f55d-8f67de6f3aa7"
      },
      "source": [
        "# ESCRIBE TU CODIGO AQUI\n",
        "data.info()"
      ],
      "execution_count": 63,
      "outputs": [
        {
          "output_type": "stream",
          "text": [
            "<class 'pandas.core.frame.DataFrame'>\n",
            "RangeIndex: 17839 entries, 0 to 17838\n",
            "Data columns (total 5 columns):\n",
            " #   Column      Non-Null Count  Dtype  \n",
            "---  ------      --------------  -----  \n",
            " 0   created_at  17838 non-null  object \n",
            " 1   text        17839 non-null  object \n",
            " 2   likes       17838 non-null  float64\n",
            " 3   RTs         17838 non-null  float64\n",
            " 4   user_name   17839 non-null  object \n",
            "dtypes: float64(2), object(3)\n",
            "memory usage: 697.0+ KB\n"
          ],
          "name": "stdout"
        }
      ]
    },
    {
      "cell_type": "code",
      "metadata": {
        "id": "vHZQBqY6NN8U",
        "outputId": "6783937d-a6cb-4e93-8972-ae26f3dff2d5"
      },
      "source": [
        ""
      ],
      "execution_count": null,
      "outputs": [
        {
          "output_type": "stream",
          "text": [
            "<class 'pandas.core.frame.DataFrame'>\n",
            "RangeIndex: 17839 entries, 0 to 17838\n",
            "Data columns (total 5 columns):\n",
            " #   Column      Non-Null Count  Dtype  \n",
            "---  ------      --------------  -----  \n",
            " 0   created_at  17838 non-null  object \n",
            " 1   text        17839 non-null  object \n",
            " 2   likes       17838 non-null  float64\n",
            " 3   RTs         17838 non-null  float64\n",
            " 4   user_name   17839 non-null  object \n",
            "dtypes: float64(2), object(3)\n",
            "memory usage: 697.0+ KB\n"
          ],
          "name": "stdout"
        }
      ]
    },
    {
      "cell_type": "markdown",
      "metadata": {
        "id": "NreGHfpuNN8V"
      },
      "source": [
        "**(e) Cual es el promedio de likes?** "
      ]
    },
    {
      "cell_type": "code",
      "metadata": {
        "colab": {
          "base_uri": "https://localhost:8080/"
        },
        "id": "7rsaK73oNN8V",
        "outputId": "55b6bff4-0512-401a-c6bc-d96e93981abf"
      },
      "source": [
        "# ESCRIBE TU CODIGO AQUI\n",
        "print ('Promedio de likes:', round(data['likes'].mean(),2), '\\n')"
      ],
      "execution_count": 65,
      "outputs": [
        {
          "output_type": "stream",
          "text": [
            "Promedio de likes: 12.09 \n",
            "\n"
          ],
          "name": "stdout"
        }
      ]
    },
    {
      "cell_type": "code",
      "metadata": {
        "id": "Sy11zYh4NN8V",
        "outputId": "80fcaa26-24ad-4857-ebf8-936a73351ace"
      },
      "source": [
        ""
      ],
      "execution_count": null,
      "outputs": [
        {
          "output_type": "stream",
          "text": [
            "Promedio de likes: 12.09 \n",
            "\n"
          ],
          "name": "stdout"
        }
      ]
    },
    {
      "cell_type": "markdown",
      "metadata": {
        "id": "5KyYoylXNN8W"
      },
      "source": [
        "**(f) Cual es el promedio de retweets?** "
      ]
    },
    {
      "cell_type": "code",
      "metadata": {
        "colab": {
          "base_uri": "https://localhost:8080/"
        },
        "id": "c-woMStSNN8W",
        "outputId": "0866f9eb-4da9-478f-9b58-876d46188b05"
      },
      "source": [
        "# ESCRIBE TU CODIGO AQUI\n",
        "print ('Promedio de RTs:', round(data['RTs'].mean(),2), '\\n')"
      ],
      "execution_count": 66,
      "outputs": [
        {
          "output_type": "stream",
          "text": [
            "Promedio de RTs: 4.88 \n",
            "\n"
          ],
          "name": "stdout"
        }
      ]
    },
    {
      "cell_type": "code",
      "metadata": {
        "id": "WCAhZnImNN8W",
        "outputId": "a2f19119-5855-4779-bff4-600e9f2ce3f0"
      },
      "source": [
        ""
      ],
      "execution_count": null,
      "outputs": [
        {
          "output_type": "stream",
          "text": [
            "Promedio de RTs: 4.88 \n",
            "\n"
          ],
          "name": "stdout"
        }
      ]
    },
    {
      "cell_type": "markdown",
      "metadata": {
        "id": "Sf194ucENN8W"
      },
      "source": [
        "**(g) Cual es el tweet con más likes y cual el que tiene más retweets?**"
      ]
    },
    {
      "cell_type": "code",
      "metadata": {
        "colab": {
          "base_uri": "https://localhost:8080/"
        },
        "id": "FxPM9w8yNN8X",
        "outputId": "9dd99f90-34e1-4603-e03c-b8cae6fa8fcf"
      },
      "source": [
        "# ESCRIBE TU CODIGO AQUI\n",
        "fav_max = np.max(data['likes'])\n",
        "rt_max  = np.max(data['RTs'])\n",
        "\n",
        "fav = data[data.likes == fav_max].index[0]\n",
        "rt  = data[data.RTs == rt_max].index[0]\n",
        "\n",
        "data['text'][data.index[fav]], data['likes'][data.index[fav]]"
      ],
      "execution_count": 67,
      "outputs": [
        {
          "output_type": "execute_result",
          "data": {
            "text/plain": [
              "('Sí. Perdí las elecciones. Pero saben qué? Lo acepté y no me vieron haciendo berrinche ni gritando #FraudeEnMesa https://t.co/FsuerTSYVO',\n",
              " 5399.0)"
            ]
          },
          "metadata": {
            "tags": []
          },
          "execution_count": 67
        }
      ]
    },
    {
      "cell_type": "code",
      "metadata": {
        "id": "uBUR67c4NN8X",
        "outputId": "1153bb76-2b8b-422f-ef24-e5edc94043a1"
      },
      "source": [
        ""
      ],
      "execution_count": null,
      "outputs": [
        {
          "output_type": "stream",
          "text": [
            "Tweet con mas likes:  5399.0  likes\n",
            "Indice del Tweet con mas likes:  12505\n",
            "Usuario:  patriciagamarra\n",
            "Sí. Perdí las elecciones. Pero saben qué? Lo acepté y no me vieron haciendo berrinche ni gritando #FraudeEnMesa https://t.co/FsuerTSYVO\n"
          ],
          "name": "stdout"
        }
      ]
    },
    {
      "cell_type": "code",
      "metadata": {
        "colab": {
          "base_uri": "https://localhost:8080/"
        },
        "id": "fc6vvQ6nNN8X",
        "outputId": "a6312376-7afb-4a0b-d737-ac983388485b"
      },
      "source": [
        "# ESCRIBE TU CODIGO AQUI\n",
        "data['text'][data.index[rt]], data['RTs'][data.index[rt]]"
      ],
      "execution_count": 68,
      "outputs": [
        {
          "output_type": "execute_result",
          "data": {
            "text/plain": [
              "('Keiko y su pack completo trumpista/Atlas Network: Amenaza de golpe, acusaciones de fraude sin prueba, campaña de od… https://t.co/XbyJsKT1Xn',\n",
              " 1925.0)"
            ]
          },
          "metadata": {
            "tags": []
          },
          "execution_count": 68
        }
      ]
    },
    {
      "cell_type": "code",
      "metadata": {
        "id": "Jf5ux-8lNN8Y",
        "outputId": "bf087b96-4f1f-49be-941d-ef2b52721a94"
      },
      "source": [
        ""
      ],
      "execution_count": null,
      "outputs": [
        {
          "output_type": "stream",
          "text": [
            "Tweet con mas retweets:  1925.0  retweets\n",
            "Indice del Tweet con mas RTs:  12490\n",
            "Usuario:  JulianMaciasT\n",
            "Keiko y su pack completo trumpista/Atlas Network: Amenaza de golpe, acusaciones de fraude sin prueba, campaña de od… https://t.co/XbyJsKT1Xn\n"
          ],
          "name": "stdout"
        }
      ]
    },
    {
      "cell_type": "markdown",
      "metadata": {
        "id": "qkEVpgLNNN8Y"
      },
      "source": [
        "### 4. Visualizaciones"
      ]
    },
    {
      "cell_type": "markdown",
      "metadata": {
        "id": "byM0rNZJNN8Y"
      },
      "source": [
        "**(a) Crea una serie de tiempo para las columnas 'likes' y \"RTs\" por separado**"
      ]
    },
    {
      "cell_type": "code",
      "metadata": {
        "colab": {
          "base_uri": "https://localhost:8080/",
          "height": 212
        },
        "id": "v1ugeLjgNN8Y",
        "outputId": "d2f8bf91-6a0f-4bbe-afe9-d478629683cc"
      },
      "source": [
        "# ESCRIBE TU CODIGO AQUI\n",
        "\n",
        "#tlen = pd.Series(data=data['len'].values, index=data['created_at'])\n",
        "tfav = pd.Series(data=data['likes'].values, index=data['created_at'])\n",
        "tret = pd.Series(data=data['RTs'].values, index=data['created_at'])\n",
        "\n",
        "tfav.plot(figsize=(16,4), color='r');"
      ],
      "execution_count": 71,
      "outputs": [
        {
          "output_type": "display_data",
          "data": {
            "image/png": "[encoded data removed]",
            "text/plain": [
              "<Figure size 1152x288 with 1 Axes>"
            ]
          },
          "metadata": {
            "tags": [],
            "needs_background": "light"
          }
        }
      ]
    },
    {
      "cell_type": "code",
      "metadata": {
        "id": "3h0kJrJWNN8Z",
        "outputId": "26eac511-566c-465a-bbec-8c8e2021dbd6"
      },
      "source": [
        ""
      ],
      "execution_count": null,
      "outputs": [
        {
          "output_type": "display_data",
          "data": {
            "image/png": "[encoded data removed]",
            "text/plain": [
              "<Figure size 1152x288 with 1 Axes>"
            ]
          },
          "metadata": {
            "tags": [],
            "needs_background": "light"
          }
        }
      ]
    },
    {
      "cell_type": "code",
      "metadata": {
        "colab": {
          "base_uri": "https://localhost:8080/",
          "height": 214
        },
        "id": "zapgYzvDNN8Z",
        "outputId": "d97d5e40-d888-4fac-cab5-949b7d3539ac"
      },
      "source": [
        "# ESCRIBE TU CODIGO AQUI\n",
        "\n",
        "tret.plot(figsize=(16,4), color='g');"
      ],
      "execution_count": 72,
      "outputs": [
        {
          "output_type": "display_data",
          "data": {
            "image/png": "[encoded data removed]",
            "text/plain": [
              "<Figure size 1152x288 with 1 Axes>"
            ]
          },
          "metadata": {
            "tags": [],
            "needs_background": "light"
          }
        }
      ]
    },
    {
      "cell_type": "code",
      "metadata": {
        "id": "p4UEuRVUNN8Z",
        "outputId": "33c3b484-a5c3-4cb8-eed5-5a1eec2e8f2e"
      },
      "source": [
        ""
      ],
      "execution_count": null,
      "outputs": [
        {
          "output_type": "display_data",
          "data": {
            "image/png": "[encoded data removed]",
            "text/plain": [
              "<Figure size 1152x288 with 1 Axes>"
            ]
          },
          "metadata": {
            "tags": [],
            "needs_background": "light"
          }
        }
      ]
    },
    {
      "cell_type": "markdown",
      "metadata": {
        "id": "VTkItUWgNN8a"
      },
      "source": [
        "**(b) Crea una serie de tiempo para las columnas 'likes' y \"RTs\" juntos en el mismo grafico**"
      ]
    },
    {
      "cell_type": "code",
      "metadata": {
        "colab": {
          "base_uri": "https://localhost:8080/",
          "height": 212
        },
        "id": "fzQJJ62YNN8a",
        "outputId": "f4c49135-801e-4a6f-fc40-dd711a38668f"
      },
      "source": [
        "# ESCRIBE TU CODIGO AQUI\n",
        "\n",
        "tfav.plot(figsize=(16,4), color='r');\n",
        "tret.plot(figsize=(16,4), color='g');"
      ],
      "execution_count": 74,
      "outputs": [
        {
          "output_type": "display_data",
          "data": {
            "image/png": "[encoded data removed]",
            "text/plain": [
              "<Figure size 1152x288 with 1 Axes>"
            ]
          },
          "metadata": {
            "tags": [],
            "needs_background": "light"
          }
        }
      ]
    },
    {
      "cell_type": "code",
      "metadata": {
        "id": "gSQGVQ0PNN8a",
        "outputId": "162cab9c-4b42-4ad1-8730-eec7c2a43fb8"
      },
      "source": [
        ""
      ],
      "execution_count": null,
      "outputs": [
        {
          "output_type": "display_data",
          "data": {
            "image/png": "[encoded data removed]",
            "text/plain": [
              "<Figure size 1152x288 with 1 Axes>"
            ]
          },
          "metadata": {
            "tags": [],
            "needs_background": "light"
          }
        }
      ]
    },
    {
      "cell_type": "markdown",
      "metadata": {
        "id": "7wxKCiUrNN8b"
      },
      "source": [
        "### 5. Análisis de Sentimientos"
      ]
    },
    {
      "cell_type": "code",
      "metadata": {
        "id": "PwKrw5S7NN8b"
      },
      "source": [
        "from textblob import TextBlob\n",
        "import re\n",
        "\n",
        "def clean_tweet(tweet):\n",
        "    '''\n",
        "    Función de utilidad para limpiar el texto de un tweet eliminando\n",
        "     enlaces y caracteres especiales que utilizan expresiones regulares.\n",
        "    '''\n",
        "    return ' '.join(re.sub(\"(@[A-Za-z0-9]+)|([^0-9A-Za-z \\t])|(\\w+:\\/\\/\\S+)\", \" \", tweet).split())\n",
        "\n",
        "def analize_sentiment(tweet):\n",
        "    '''\n",
        "    Función de utilidad para clasificar la polaridad de un tweet\n",
        "     usando textblob.\n",
        "    '''\n",
        "    analysis = TextBlob(clean_tweet(tweet))\n",
        "    if analysis.sentiment.polarity > 0:\n",
        "        return 1\n",
        "    elif analysis.sentiment.polarity == 0:\n",
        "        return 0\n",
        "    else:\n",
        "        return -1"
      ],
      "execution_count": 75,
      "outputs": []
    },
    {
      "cell_type": "markdown",
      "metadata": {
        "id": "KyI-n-hiNN8c"
      },
      "source": [
        "**(a) Crea una nueva columna llamada SA (Sentimental Analysis) en el dataframe data y asignale un valor de polaridad utilizando la funcion analize_sentiment()**"
      ]
    },
    {
      "cell_type": "code",
      "metadata": {
        "colab": {
          "base_uri": "https://localhost:8080/",
          "height": 535
        },
        "id": "0gouOD33NN8c",
        "outputId": "c57ed1c6-4f3f-497c-8931-03bd2d174edd"
      },
      "source": [
        "# ESCRIBE TU CODIGO AQUI\n",
        "\n",
        "data['SA'] = np.array([analize_sentiment(tweet)for tweet in data['text']])\n",
        "display(data.head(10))"
      ],
      "execution_count": 79,
      "outputs": [
        {
          "output_type": "display_data",
          "data": {
            "text/html": [
              "<div>\n",
              "<style scoped>\n",
              "    .dataframe tbody tr th:only-of-type {\n",
              "        vertical-align: middle;\n",
              "    }\n",
              "\n",
              "    .dataframe tbody tr th {\n",
              "        vertical-align: top;\n",
              "    }\n",
              "\n",
              "    .dataframe thead th {\n",
              "        text-align: right;\n",
              "    }\n",
              "</style>\n",
              "<table border=\"1\" class=\"dataframe\">\n",
              "  <thead>\n",
              "    <tr style=\"text-align: right;\">\n",
              "      <th></th>\n",
              "      <th>created_at</th>\n",
              "      <th>text</th>\n",
              "      <th>likes</th>\n",
              "      <th>RTs</th>\n",
              "      <th>user_name</th>\n",
              "      <th>SA</th>\n",
              "    </tr>\n",
              "  </thead>\n",
              "  <tbody>\n",
              "    <tr>\n",
              "      <th>0</th>\n",
              "      <td>13/06/2021 23:59</td>\n",
              "      <td>@MarthaChavezC @ONPE_oficial Estas elecciones ...</td>\n",
              "      <td>7.0</td>\n",
              "      <td>3.0</td>\n",
              "      <td>la_charapita</td>\n",
              "      <td>0</td>\n",
              "    </tr>\n",
              "    <tr>\n",
              "      <th>1</th>\n",
              "      <td>13/06/2021 23:58</td>\n",
              "      <td>@DavidU1924 @MarthaChavezC ¡Cuantas actas mas ...</td>\n",
              "      <td>12.0</td>\n",
              "      <td>0.0</td>\n",
              "      <td>DPostigo50</td>\n",
              "      <td>0</td>\n",
              "    </tr>\n",
              "    <tr>\n",
              "      <th>2</th>\n",
              "      <td>13/06/2021 23:54</td>\n",
              "      <td>@ONPE_oficial @alecosta @kennethsanchezg La @O...</td>\n",
              "      <td>1.0</td>\n",
              "      <td>0.0</td>\n",
              "      <td>AleGayoso2</td>\n",
              "      <td>0</td>\n",
              "    </tr>\n",
              "    <tr>\n",
              "      <th>3</th>\n",
              "      <td>13/06/2021 23:46</td>\n",
              "      <td>@JNE_Peru @tuesta @fidh_es PERDIERON CREDIBILI...</td>\n",
              "      <td>0.0</td>\n",
              "      <td>0.0</td>\n",
              "      <td>E062020</td>\n",
              "      <td>0</td>\n",
              "    </tr>\n",
              "    <tr>\n",
              "      <th>4</th>\n",
              "      <td>13/06/2021 23:45</td>\n",
              "      <td>@susanaabad @MarleneChG1 Con el #FraudeEnMesa</td>\n",
              "      <td>0.0</td>\n",
              "      <td>0.0</td>\n",
              "      <td>HILARYCAMPOVER2</td>\n",
              "      <td>0</td>\n",
              "    </tr>\n",
              "    <tr>\n",
              "      <th>5</th>\n",
              "      <td>13/06/2021 23:44</td>\n",
              "      <td>@IndiraHuilca Yo no vi a nadie destilar odio e...</td>\n",
              "      <td>0.0</td>\n",
              "      <td>0.0</td>\n",
              "      <td>TheRealGuille82</td>\n",
              "      <td>0</td>\n",
              "    </tr>\n",
              "    <tr>\n",
              "      <th>6</th>\n",
              "      <td>13/06/2021 23:41</td>\n",
              "      <td>@Tgiusseppe @ONPE_oficial @KeikoFujimori Segur...</td>\n",
              "      <td>1.0</td>\n",
              "      <td>1.0</td>\n",
              "      <td>NANKARINA5</td>\n",
              "      <td>0</td>\n",
              "    </tr>\n",
              "    <tr>\n",
              "      <th>7</th>\n",
              "      <td>13/06/2021 23:39</td>\n",
              "      <td>#fraudeEnMesa una más de las miles fraudulenta...</td>\n",
              "      <td>2.0</td>\n",
              "      <td>1.0</td>\n",
              "      <td>yzarich</td>\n",
              "      <td>0</td>\n",
              "    </tr>\n",
              "    <tr>\n",
              "      <th>8</th>\n",
              "      <td>13/06/2021 23:37</td>\n",
              "      <td>@amariateguibnof Ya es el colmo el pulpo que h...</td>\n",
              "      <td>8.0</td>\n",
              "      <td>4.0</td>\n",
              "      <td>Juaniperezc</td>\n",
              "      <td>0</td>\n",
              "    </tr>\n",
              "    <tr>\n",
              "      <th>9</th>\n",
              "      <td>13/06/2021 23:37</td>\n",
              "      <td>@America24Horas @KeikoFujimori Han anulado act...</td>\n",
              "      <td>0.0</td>\n",
              "      <td>0.0</td>\n",
              "      <td>GabrielOmarPM</td>\n",
              "      <td>0</td>\n",
              "    </tr>\n",
              "  </tbody>\n",
              "</table>\n",
              "</div>"
            ],
            "text/plain": [
              "         created_at  ... SA\n",
              "0  13/06/2021 23:59  ...  0\n",
              "1  13/06/2021 23:58  ...  0\n",
              "2  13/06/2021 23:54  ...  0\n",
              "3  13/06/2021 23:46  ...  0\n",
              "4  13/06/2021 23:45  ...  0\n",
              "5  13/06/2021 23:44  ...  0\n",
              "6  13/06/2021 23:41  ...  0\n",
              "7  13/06/2021 23:39  ...  0\n",
              "8  13/06/2021 23:37  ...  0\n",
              "9  13/06/2021 23:37  ...  0\n",
              "\n",
              "[10 rows x 6 columns]"
            ]
          },
          "metadata": {
            "tags": []
          }
        }
      ]
    },
    {
      "cell_type": "code",
      "metadata": {
        "id": "PP_CgacdNN8c",
        "outputId": "1e042578-3e07-4d7d-bf55-4c279bb7ab58"
      },
      "source": [
        ""
      ],
      "execution_count": null,
      "outputs": [
        {
          "output_type": "display_data",
          "data": {
            "text/html": [
              "<div>\n",
              "<style scoped>\n",
              "    .dataframe tbody tr th:only-of-type {\n",
              "        vertical-align: middle;\n",
              "    }\n",
              "\n",
              "    .dataframe tbody tr th {\n",
              "        vertical-align: top;\n",
              "    }\n",
              "\n",
              "    .dataframe thead th {\n",
              "        text-align: right;\n",
              "    }\n",
              "</style>\n",
              "<table border=\"1\" class=\"dataframe\">\n",
              "  <thead>\n",
              "    <tr style=\"text-align: right;\">\n",
              "      <th></th>\n",
              "      <th>created_at</th>\n",
              "      <th>text</th>\n",
              "      <th>likes</th>\n",
              "      <th>RTs</th>\n",
              "      <th>user_name</th>\n",
              "      <th>SA</th>\n",
              "    </tr>\n",
              "  </thead>\n",
              "  <tbody>\n",
              "    <tr>\n",
              "      <th>0</th>\n",
              "      <td>13/06/2021 23:59</td>\n",
              "      <td>@MarthaChavezC @ONPE_oficial Estas elecciones ...</td>\n",
              "      <td>7.0</td>\n",
              "      <td>3.0</td>\n",
              "      <td>la_charapita</td>\n",
              "      <td>0</td>\n",
              "    </tr>\n",
              "    <tr>\n",
              "      <th>1</th>\n",
              "      <td>13/06/2021 23:58</td>\n",
              "      <td>@DavidU1924 @MarthaChavezC ¡Cuantas actas mas ...</td>\n",
              "      <td>12.0</td>\n",
              "      <td>0.0</td>\n",
              "      <td>DPostigo50</td>\n",
              "      <td>0</td>\n",
              "    </tr>\n",
              "    <tr>\n",
              "      <th>2</th>\n",
              "      <td>13/06/2021 23:54</td>\n",
              "      <td>@ONPE_oficial @alecosta @kennethsanchezg La @O...</td>\n",
              "      <td>1.0</td>\n",
              "      <td>0.0</td>\n",
              "      <td>AleGayoso2</td>\n",
              "      <td>0</td>\n",
              "    </tr>\n",
              "    <tr>\n",
              "      <th>3</th>\n",
              "      <td>13/06/2021 23:46</td>\n",
              "      <td>@JNE_Peru @tuesta @fidh_es PERDIERON CREDIBILI...</td>\n",
              "      <td>0.0</td>\n",
              "      <td>0.0</td>\n",
              "      <td>E062020</td>\n",
              "      <td>0</td>\n",
              "    </tr>\n",
              "    <tr>\n",
              "      <th>4</th>\n",
              "      <td>13/06/2021 23:45</td>\n",
              "      <td>@susanaabad @MarleneChG1 Con el #FraudeEnMesa</td>\n",
              "      <td>0.0</td>\n",
              "      <td>0.0</td>\n",
              "      <td>HILARYCAMPOVER2</td>\n",
              "      <td>0</td>\n",
              "    </tr>\n",
              "    <tr>\n",
              "      <th>5</th>\n",
              "      <td>13/06/2021 23:44</td>\n",
              "      <td>@IndiraHuilca Yo no vi a nadie destilar odio e...</td>\n",
              "      <td>0.0</td>\n",
              "      <td>0.0</td>\n",
              "      <td>TheRealGuille82</td>\n",
              "      <td>0</td>\n",
              "    </tr>\n",
              "    <tr>\n",
              "      <th>6</th>\n",
              "      <td>13/06/2021 23:41</td>\n",
              "      <td>@Tgiusseppe @ONPE_oficial @KeikoFujimori Segur...</td>\n",
              "      <td>1.0</td>\n",
              "      <td>1.0</td>\n",
              "      <td>NANKARINA5</td>\n",
              "      <td>0</td>\n",
              "    </tr>\n",
              "    <tr>\n",
              "      <th>7</th>\n",
              "      <td>13/06/2021 23:39</td>\n",
              "      <td>#fraudeEnMesa una más de las miles fraudulenta...</td>\n",
              "      <td>2.0</td>\n",
              "      <td>1.0</td>\n",
              "      <td>yzarich</td>\n",
              "      <td>0</td>\n",
              "    </tr>\n",
              "    <tr>\n",
              "      <th>8</th>\n",
              "      <td>13/06/2021 23:37</td>\n",
              "      <td>@amariateguibnof Ya es el colmo el pulpo que h...</td>\n",
              "      <td>8.0</td>\n",
              "      <td>4.0</td>\n",
              "      <td>Juaniperezc</td>\n",
              "      <td>0</td>\n",
              "    </tr>\n",
              "    <tr>\n",
              "      <th>9</th>\n",
              "      <td>13/06/2021 23:37</td>\n",
              "      <td>@America24Horas @KeikoFujimori Han anulado act...</td>\n",
              "      <td>0.0</td>\n",
              "      <td>0.0</td>\n",
              "      <td>GabrielOmarPM</td>\n",
              "      <td>0</td>\n",
              "    </tr>\n",
              "  </tbody>\n",
              "</table>\n",
              "</div>"
            ],
            "text/plain": [
              "         created_at                                               text  likes  \\\n",
              "0  13/06/2021 23:59  @MarthaChavezC @ONPE_oficial Estas elecciones ...    7.0   \n",
              "1  13/06/2021 23:58  @DavidU1924 @MarthaChavezC ¡Cuantas actas mas ...   12.0   \n",
              "2  13/06/2021 23:54  @ONPE_oficial @alecosta @kennethsanchezg La @O...    1.0   \n",
              "3  13/06/2021 23:46  @JNE_Peru @tuesta @fidh_es PERDIERON CREDIBILI...    0.0   \n",
              "4  13/06/2021 23:45      @susanaabad @MarleneChG1 Con el #FraudeEnMesa    0.0   \n",
              "5  13/06/2021 23:44  @IndiraHuilca Yo no vi a nadie destilar odio e...    0.0   \n",
              "6  13/06/2021 23:41  @Tgiusseppe @ONPE_oficial @KeikoFujimori Segur...    1.0   \n",
              "7  13/06/2021 23:39  #fraudeEnMesa una más de las miles fraudulenta...    2.0   \n",
              "8  13/06/2021 23:37  @amariateguibnof Ya es el colmo el pulpo que h...    8.0   \n",
              "9  13/06/2021 23:37  @America24Horas @KeikoFujimori Han anulado act...    0.0   \n",
              "\n",
              "   RTs        user_name  SA  \n",
              "0  3.0     la_charapita   0  \n",
              "1  0.0       DPostigo50   0  \n",
              "2  0.0       AleGayoso2   0  \n",
              "3  0.0          E062020   0  \n",
              "4  0.0  HILARYCAMPOVER2   0  \n",
              "5  0.0  TheRealGuille82   0  \n",
              "6  1.0       NANKARINA5   0  \n",
              "7  1.0          yzarich   0  \n",
              "8  4.0      Juaniperezc   0  \n",
              "9  0.0    GabrielOmarPM   0  "
            ]
          },
          "metadata": {
            "tags": []
          }
        }
      ]
    },
    {
      "cell_type": "markdown",
      "metadata": {
        "id": "QLsbpLaxNN8d"
      },
      "source": [
        "**(b) Obten la cantidad total de tweets positivos, neutrales y negativos**"
      ]
    },
    {
      "cell_type": "code",
      "metadata": {
        "colab": {
          "base_uri": "https://localhost:8080/"
        },
        "id": "m6LESUyHNN8d",
        "outputId": "30369c74-c330-4f1f-924f-fc3a8152759f"
      },
      "source": [
        "# ESCRIBE TU CODIGO AQUI\n",
        "\n",
        "pos_tweets = [ tweet for index, tweet in enumerate(data['text']) if data['SA'][index] > 0]\n",
        "neu_tweets = [ tweet for index, tweet in enumerate(data['text']) if data['SA'][index] == 0]\n",
        "neg_tweets = [ tweet for index, tweet in enumerate(data['text']) if data['SA'][index] < 0]\n",
        "\n",
        "\n",
        "print(\"Cantidad de positivos tweets: {}\".format(len(pos_tweets)))\n",
        "print(\"Cantidad de neutrales tweets: {}\".format(len(neu_tweets)))\n",
        "print(\"Cantidad de negativos tweets: {}\".format(len(neg_tweets)))"
      ],
      "execution_count": 87,
      "outputs": [
        {
          "output_type": "stream",
          "text": [
            "Cantidad de positivos tweets: 476\n",
            "Cantidad de neutrales tweets: 17164\n",
            "Cantidad de negativos tweets: 199\n"
          ],
          "name": "stdout"
        }
      ]
    },
    {
      "cell_type": "code",
      "metadata": {
        "id": "VdM7y2NtNN8d",
        "outputId": "bface97a-95bc-4377-cb3b-ed9f6b1ff1c8"
      },
      "source": [
        ""
      ],
      "execution_count": null,
      "outputs": [
        {
          "output_type": "stream",
          "text": [
            "Cantidad de tweets positivos :  476\n",
            "Cantidad de tweets neutrales:  17164\n",
            "Cantidad de tweets negativos:  199\n"
          ],
          "name": "stdout"
        }
      ]
    },
    {
      "cell_type": "markdown",
      "metadata": {
        "id": "4kh--B7LNN8d"
      },
      "source": [
        "**(c) Obten el % de tweets positivos, neutrales y negativos**"
      ]
    },
    {
      "cell_type": "code",
      "metadata": {
        "colab": {
          "base_uri": "https://localhost:8080/"
        },
        "id": "3ZigUuO_NN8e",
        "outputId": "b7086491-a526-4706-a1e4-be9f606d5ddc"
      },
      "source": [
        "# ESCRIBE TU CODIGO AQUI\n",
        "\n",
        "print(\"Percentaje de positivos tweets: {}%\".format(len(pos_tweets)*100/len(data['text'])))\n",
        "print(\"Percentaje de neutrales tweets: {}%\".format(len(neu_tweets)*100/len(data['text'])))\n",
        "print(\"Percentaje de negativos tweets: {}%\".format(len(neg_tweets)*100/len(data['text'])))"
      ],
      "execution_count": 83,
      "outputs": [
        {
          "output_type": "stream",
          "text": [
            "Percentaje de positivos tweets: 2.6683110039800435%\n",
            "Percentaje de neutrales tweets: 96.21615561410393%\n",
            "Percentaje de negativos tweets: 1.1155333819160267%\n"
          ],
          "name": "stdout"
        }
      ]
    },
    {
      "cell_type": "code",
      "metadata": {
        "id": "rJxYX9nQNN8e",
        "outputId": "5e9e5837-80b6-4dcc-8829-bc522a93c2ac"
      },
      "source": [
        ""
      ],
      "execution_count": null,
      "outputs": [
        {
          "output_type": "stream",
          "text": [
            "Percentaje de tweets positivos : 2.6683110039800435%\n",
            "Percentaje de tweets neutrales: 96.21615561410393%\n",
            "Percentaje de tweets negativos: 1.1155333819160267%\n"
          ],
          "name": "stdout"
        }
      ]
    },
    {
      "cell_type": "markdown",
      "metadata": {
        "id": "9oJn_Qu6NN8e"
      },
      "source": [
        "Que opinas de los RESULTADOS obtenidos?  LOS PERUANOS SOMOS NEUTRALES?"
      ]
    },
    {
      "cell_type": "markdown",
      "metadata": {
        "id": "ZPjqNlISNN8e"
      },
      "source": [
        "## Buen trabajo!"
      ]
    }
  ]
}